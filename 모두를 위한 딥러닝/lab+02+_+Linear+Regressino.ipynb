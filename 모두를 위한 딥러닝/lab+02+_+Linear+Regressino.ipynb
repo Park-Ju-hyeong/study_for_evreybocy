{
 "cells": [
  {
   "cell_type": "markdown",
   "metadata": {},
   "source": [
    "# Lab 2 Linear Regression"
   ]
  },
  {
   "cell_type": "code",
   "execution_count": 1,
   "metadata": {
    "collapsed": true
   },
   "outputs": [],
   "source": [
    "import tensorflow as tf\n",
    "tf.set_random_seed(777)  # for reproducibility"
   ]
  },
  {
   "cell_type": "markdown",
   "metadata": {},
   "source": [
    " X and Y data"
   ]
  },
  {
   "cell_type": "code",
   "execution_count": 4,
   "metadata": {
    "collapsed": true
   },
   "outputs": [],
   "source": [
    "x_train = [1, 2, 3]\n",
    "y_train = [1, 2, 3]"
   ]
  },
  {
   "cell_type": "markdown",
   "metadata": {},
   "source": [
    "Try to find values for W and b to compute y_data = x_data * W + b\n",
    "\n",
    "We know that W should be 1 and b should be 0\n",
    "\n",
    "But let TensorFlow figure it out"
   ]
  },
  {
   "cell_type": "code",
   "execution_count": 3,
   "metadata": {
    "collapsed": true
   },
   "outputs": [],
   "source": [
    "W = tf.Variable(tf.random_normal([1]), name = 'weight')\n",
    "b = tf.Variable(tf.random_normal([1]), name = 'bias')"
   ]
  },
  {
   "cell_type": "markdown",
   "metadata": {},
   "source": [
    "Our hypothesis XW+b"
   ]
  },
  {
   "cell_type": "code",
   "execution_count": 6,
   "metadata": {
    "collapsed": true
   },
   "outputs": [],
   "source": [
    "hypothesis = x_train * W + b"
   ]
  },
  {
   "cell_type": "markdown",
   "metadata": {},
   "source": [
    "cost/loss function"
   ]
  },
  {
   "cell_type": "code",
   "execution_count": 7,
   "metadata": {
    "collapsed": true
   },
   "outputs": [],
   "source": [
    "cost = tf.reduce_mean(tf.square(hypothesis - y_train))"
   ]
  },
  {
   "cell_type": "markdown",
   "metadata": {},
   "source": [
    "Minimize"
   ]
  },
  {
   "cell_type": "code",
   "execution_count": 8,
   "metadata": {
    "collapsed": true
   },
   "outputs": [],
   "source": [
    "optimizer = tf.train.GradientDescentOptimizer(learning_rate=0.01)\n",
    "train = optimizer.minimize(cost)"
   ]
  },
  {
   "cell_type": "markdown",
   "metadata": {},
   "source": [
    "Launch the graph in a session."
   ]
  },
  {
   "cell_type": "code",
   "execution_count": null,
   "metadata": {
    "collapsed": true
   },
   "outputs": [],
   "source": [
    "sess = tf.Session()\n",
    "# Initializes global variables in the graph.\n",
    "sess.run(tf.global_variables_initializer())"
   ]
  },
  {
   "cell_type": "code",
   "execution_count": 18,
   "metadata": {
    "collapsed": false
   },
   "outputs": [
    {
     "name": "stdout",
     "output_type": "stream",
     "text": [
      "0 2.82329 [ 2.12867713] [-0.85235667]\n",
      "100 0.113226 [ 1.39081788] [-0.88840771]\n",
      "200 0.0699668 [ 1.30721486] [-0.69837117]\n",
      "300 0.0432353 [ 1.24149871] [-0.54898357]\n",
      "400 0.0267167 [ 1.18983996] [-0.4315508]\n",
      "500 0.0165093 [ 1.14923155] [-0.33923826]\n",
      "600 0.0102017 [ 1.11730957] [-0.26667204]\n",
      "700 0.00630405 [ 1.0922159] [-0.20962858]\n",
      "800 0.00389553 [ 1.07249022] [-0.16478711]\n",
      "900 0.00240721 [ 1.05698395] [-0.12953788]\n",
      "1000 0.0014875 [ 1.04479456] [-0.10182849]\n",
      "1100 0.000919187 [ 1.03521252] [-0.08004645]\n",
      "1200 0.000567998 [ 1.02768016] [-0.06292368]\n",
      "1300 0.00035099 [ 1.02175927] [-0.04946378]\n",
      "1400 0.000216891 [ 1.01710474] [-0.03888312]\n",
      "1500 0.000134025 [ 1.01344585] [-0.03056567]\n",
      "1600 8.28196e-05 [ 1.01056981] [-0.02402747]\n",
      "1700 5.11766e-05 [ 1.00830877] [-0.01888768]\n",
      "1800 3.16242e-05 [ 1.00653136] [-0.01484741]\n",
      "1900 1.95421e-05 [ 1.00513422] [-0.01167146]\n",
      "2000 1.20761e-05 [ 1.00403607] [-0.00917497]\n"
     ]
    }
   ],
   "source": [
    "sess = tf.Session()\n",
    "# Initializes global variables in the graph.\n",
    "sess.run(tf.global_variables_initializer())\n",
    "#Fit the line\n",
    "for step in range(2001):\n",
    "    sess.run(train)\n",
    "    if step % 100 == 0:\n",
    "        print(step, sess.run(cost), sess.run(W), sess.run(b))"
   ]
  },
  {
   "cell_type": "code",
   "execution_count": 20,
   "metadata": {
    "collapsed": false
   },
   "outputs": [
    {
     "name": "stdout",
     "output_type": "stream",
     "text": [
      "0 40.8709 [-1.16776562] [-1.06574047]\n",
      "100 0.000786311 [ 1.03247249] [-0.07386473]\n",
      "200 0.000485893 [ 1.02554011] [-0.05805847]\n",
      "300 0.000300251 [ 1.02007639] [-0.04563927]\n",
      "400 0.000185533 [ 1.01578188] [-0.03587618]\n",
      "500 0.000114649 [ 1.01240611] [-0.02820188]\n",
      "600 7.08476e-05 [ 1.00975227] [-0.02216943]\n",
      "700 4.37784e-05 [ 1.00766623] [-0.01742713]\n",
      "800 2.70523e-05 [ 1.00602639] [-0.01369938]\n",
      "900 1.67176e-05 [ 1.00473738] [-0.01076904]\n",
      "1000 1.03303e-05 [ 1.0037241] [-0.00846558]\n",
      "1100 6.38398e-06 [ 1.00292754] [-0.00665471]\n",
      "1200 3.94474e-06 [ 1.00230134] [-0.00523135]\n",
      "1300 2.43816e-06 [ 1.00180912] [-0.0041126]\n",
      "1400 1.50695e-06 [ 1.00142241] [-0.0032332]\n",
      "1500 9.31437e-07 [ 1.00111818] [-0.00254195]\n",
      "1600 5.7584e-07 [ 1.00087941] [-0.00199867]\n",
      "1700 3.56069e-07 [ 1.00069165] [-0.00157162]\n",
      "1800 2.20255e-07 [ 1.00054407] [-0.00123607]\n",
      "1900 1.36238e-07 [ 1.0004276] [-0.00097225]\n",
      "2000 8.43523e-08 [ 1.00033665] [-0.00076497]\n"
     ]
    }
   ],
   "source": [
    "# Try to find values for W and b to compute y_data = W * x_data + b\n",
    "# We know that W should be 1 and b should be 0\n",
    "# But let's use TensorFlow to figure it out\n",
    "W = tf.Variable(tf.random_normal([1]), name='weight')\n",
    "b = tf.Variable(tf.random_normal([1]), name='bias')\n",
    "\n",
    "# Now we can use X and Y in place of x_data and y_data\n",
    "# # placeholders for a tensor that will be always fed using feed_dict\n",
    "# See http://stackoverflow.com/questions/36693740/\n",
    "X = tf.placeholder(tf.float32, shape=[None])\n",
    "Y = tf.placeholder(tf.float32, shape=[None])\n",
    "\n",
    "# Our hypothesis XW+b\n",
    "hypothesis = X * W + b\n",
    "\n",
    "# cost/loss function\n",
    "cost = tf.reduce_mean(tf.square(hypothesis - Y))\n",
    "\n",
    "# Minimize\n",
    "optimizer = tf.train.GradientDescentOptimizer(learning_rate=0.01)\n",
    "train = optimizer.minimize(cost)\n",
    "\n",
    "# Launch the graph in a session.\n",
    "sess = tf.Session()\n",
    "# Initializes global variables in the graph.\n",
    "sess.run(tf.global_variables_initializer())\n",
    "\n",
    "# Fit the line\n",
    "for step in range(2001):\n",
    "    cost_val, W_val, b_val, _ = \\\n",
    "        sess.run([cost, W, b, train],\n",
    "                 feed_dict={X: [1, 2, 3], Y: [1, 2, 3]})\n",
    "    if step % 100 == 0:\n",
    "        print(step, cost_val, W_val, b_val)\n",
    "\n",
    "# Learns best fit W:[ 1.],  b:[ 0]"
   ]
  },
  {
   "cell_type": "markdown",
   "metadata": {},
   "source": [
    "Testing our model"
   ]
  },
  {
   "cell_type": "code",
   "execution_count": 21,
   "metadata": {
    "collapsed": false
   },
   "outputs": [
    {
     "name": "stdout",
     "output_type": "stream",
     "text": [
      "[ 5.00091839]\n",
      "[ 2.50007653]\n",
      "[ 1.49974     3.50041318]\n"
     ]
    }
   ],
   "source": [
    "print(sess.run(hypothesis, feed_dict={X: [5]}))\n",
    "print(sess.run(hypothesis, feed_dict={X: [2.5]}))\n",
    "print(sess.run(hypothesis, feed_dict={X: [1.5, 3.5]}))"
   ]
  },
  {
   "cell_type": "code",
   "execution_count": 23,
   "metadata": {
    "collapsed": false
   },
   "outputs": [
    {
     "name": "stdout",
     "output_type": "stream",
     "text": [
      "0 2.47743e-07 [ 1.0003221] [ 1.09883738]\n",
      "100 1.25875e-07 [ 1.0002296] [ 1.09917104]\n",
      "200 6.40733e-08 [ 1.00016367] [ 1.09940863]\n",
      "300 3.26145e-08 [ 1.00011683] [ 1.09957814]\n",
      "400 1.65708e-08 [ 1.00008333] [ 1.09969914]\n",
      "500 8.45353e-09 [ 1.00005937] [ 1.09978497]\n",
      "600 4.31219e-09 [ 1.00004268] [ 1.09984648]\n",
      "700 2.26265e-09 [ 1.00003064] [ 1.09988868]\n",
      "800 1.14051e-09 [ 1.00002182] [ 1.09992087]\n",
      "900 5.60021e-10 [ 1.00001526] [ 1.09994471]\n",
      "1000 3.25917e-10 [ 1.0000118] [ 1.0999577]\n",
      "1100 1.70076e-10 [ 1.00000858] [ 1.09996963]\n",
      "1200 7.50447e-11 [ 1.00000584] [ 1.09997952]\n",
      "1300 7.50447e-11 [ 1.00000584] [ 1.09997952]\n",
      "1400 7.50447e-11 [ 1.00000584] [ 1.09997952]\n",
      "1500 7.50447e-11 [ 1.00000584] [ 1.09997952]\n",
      "1600 7.50447e-11 [ 1.00000584] [ 1.09997952]\n",
      "1700 7.50447e-11 [ 1.00000584] [ 1.09997952]\n",
      "1800 7.50447e-11 [ 1.00000584] [ 1.09997952]\n",
      "1900 7.50447e-11 [ 1.00000584] [ 1.09997952]\n",
      "2000 7.50447e-11 [ 1.00000584] [ 1.09997952]\n"
     ]
    }
   ],
   "source": [
    "# Fit the line with new training data\n",
    "for step in range(2001):\n",
    "    cost_val, W_val, b_val, _ = \\\n",
    "        sess.run([cost, W, b, train],\n",
    "                 feed_dict={X: [1, 2, 3, 4, 5],\n",
    "                            Y: [2.1, 3.1, 4.1, 5.1, 6.1]})\n",
    "    if step % 100 == 0:\n",
    "        print(step, cost_val, W_val, b_val)"
   ]
  },
  {
   "cell_type": "code",
   "execution_count": 24,
   "metadata": {
    "collapsed": false
   },
   "outputs": [
    {
     "name": "stdout",
     "output_type": "stream",
     "text": [
      "[ 6.10000849]\n",
      "[ 3.59999418]\n",
      "[ 2.59998846  4.5999999 ]\n"
     ]
    }
   ],
   "source": [
    "# Testing our model\n",
    "print(sess.run(hypothesis, feed_dict={X: [5]}))\n",
    "print(sess.run(hypothesis, feed_dict={X: [2.5]}))\n",
    "print(sess.run(hypothesis, feed_dict={X: [1.5, 3.5]}))"
   ]
  },
  {
   "cell_type": "code",
   "execution_count": null,
   "metadata": {
    "collapsed": true
   },
   "outputs": [],
   "source": []
  }
 ],
 "metadata": {
  "anaconda-cloud": {},
  "kernelspec": {
   "display_name": "Python [conda root]",
   "language": "python",
   "name": "conda-root-py"
  },
  "language_info": {
   "codemirror_mode": {
    "name": "ipython",
    "version": 3
   },
   "file_extension": ".py",
   "mimetype": "text/x-python",
   "name": "python",
   "nbconvert_exporter": "python",
   "pygments_lexer": "ipython3",
   "version": "3.5.2"
  }
 },
 "nbformat": 4,
 "nbformat_minor": 1
}
